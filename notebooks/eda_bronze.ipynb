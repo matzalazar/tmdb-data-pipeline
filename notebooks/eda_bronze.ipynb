{
 "cells": [
  {
   "cell_type": "markdown",
   "metadata": {},
   "source": [
    "# Análisis Exploratorio de la Capa Bronze"
   ]
  },
  {
   "cell_type": "markdown",
   "metadata": {},
   "source": [
    "## Configuración inicial\n",
    "\n",
    "Importamos las librerías:"
   ]
  },
  {
   "cell_type": "code",
   "execution_count": 1,
   "metadata": {},
   "outputs": [],
   "source": [
    "from deltalake import DeltaTable\n",
    "import pandas as pd"
   ]
  },
  {
   "cell_type": "markdown",
   "metadata": {},
   "source": [
    "## Now Playing"
   ]
  },
  {
   "cell_type": "markdown",
   "metadata": {},
   "source": [
    "Cargamos la Tabla Delta Bronze de Now Playing:"
   ]
  },
  {
   "cell_type": "code",
   "execution_count": 2,
   "metadata": {},
   "outputs": [],
   "source": [
    "# Now Playing:\n",
    "\n",
    "dt_np = DeltaTable('../data/delta/bronze/tmdb/now_playing')\n",
    "df_np = dt_np.to_pandas()\n"
   ]
  },
  {
   "cell_type": "markdown",
   "metadata": {},
   "source": [
    "Primeras inspecciones:"
   ]
  },
  {
   "cell_type": "code",
   "execution_count": 3,
   "metadata": {},
   "outputs": [
    {
     "data": {
      "text/html": [
       "<div>\n",
       "<style scoped>\n",
       "    .dataframe tbody tr th:only-of-type {\n",
       "        vertical-align: middle;\n",
       "    }\n",
       "\n",
       "    .dataframe tbody tr th {\n",
       "        vertical-align: top;\n",
       "    }\n",
       "\n",
       "    .dataframe thead th {\n",
       "        text-align: right;\n",
       "    }\n",
       "</style>\n",
       "<table border=\"1\" class=\"dataframe\">\n",
       "  <thead>\n",
       "    <tr style=\"text-align: right;\">\n",
       "      <th></th>\n",
       "      <th>movie_id</th>\n",
       "      <th>title</th>\n",
       "      <th>vote_average</th>\n",
       "      <th>vote_count</th>\n",
       "      <th>popularity</th>\n",
       "      <th>date</th>\n",
       "    </tr>\n",
       "  </thead>\n",
       "  <tbody>\n",
       "    <tr>\n",
       "      <th>0</th>\n",
       "      <td>1125899</td>\n",
       "      <td>Cleaner</td>\n",
       "      <td>6.750</td>\n",
       "      <td>142</td>\n",
       "      <td>417.3003</td>\n",
       "      <td>2025-04-03</td>\n",
       "    </tr>\n",
       "    <tr>\n",
       "      <th>1</th>\n",
       "      <td>1229730</td>\n",
       "      <td>Carjackers</td>\n",
       "      <td>7.100</td>\n",
       "      <td>37</td>\n",
       "      <td>435.5444</td>\n",
       "      <td>2025-04-03</td>\n",
       "    </tr>\n",
       "    <tr>\n",
       "      <th>2</th>\n",
       "      <td>822119</td>\n",
       "      <td>Captain America: Brave New World</td>\n",
       "      <td>6.118</td>\n",
       "      <td>1187</td>\n",
       "      <td>348.3977</td>\n",
       "      <td>2025-04-03</td>\n",
       "    </tr>\n",
       "    <tr>\n",
       "      <th>3</th>\n",
       "      <td>1261050</td>\n",
       "      <td>The Quiet Ones</td>\n",
       "      <td>6.200</td>\n",
       "      <td>15</td>\n",
       "      <td>363.2694</td>\n",
       "      <td>2025-04-03</td>\n",
       "    </tr>\n",
       "    <tr>\n",
       "      <th>4</th>\n",
       "      <td>1197306</td>\n",
       "      <td>A Working Man</td>\n",
       "      <td>6.968</td>\n",
       "      <td>94</td>\n",
       "      <td>356.5597</td>\n",
       "      <td>2025-04-03</td>\n",
       "    </tr>\n",
       "  </tbody>\n",
       "</table>\n",
       "</div>"
      ],
      "text/plain": [
       "   movie_id                             title  vote_average  vote_count  \\\n",
       "0   1125899                           Cleaner         6.750         142   \n",
       "1   1229730                        Carjackers         7.100          37   \n",
       "2    822119  Captain America: Brave New World         6.118        1187   \n",
       "3   1261050                    The Quiet Ones         6.200          15   \n",
       "4   1197306                     A Working Man         6.968          94   \n",
       "\n",
       "   popularity        date  \n",
       "0    417.3003  2025-04-03  \n",
       "1    435.5444  2025-04-03  \n",
       "2    348.3977  2025-04-03  \n",
       "3    363.2694  2025-04-03  \n",
       "4    356.5597  2025-04-03  "
      ]
     },
     "execution_count": 3,
     "metadata": {},
     "output_type": "execute_result"
    }
   ],
   "source": [
    "df_np.head()"
   ]
  },
  {
   "cell_type": "markdown",
   "metadata": {},
   "source": [
    "Verificamos los datatypes para definir las transformaciones necesarias:"
   ]
  },
  {
   "cell_type": "code",
   "execution_count": 4,
   "metadata": {},
   "outputs": [
    {
     "data": {
      "text/plain": [
       "movie_id          int64\n",
       "title            object\n",
       "vote_average    float64\n",
       "vote_count        int64\n",
       "popularity      float64\n",
       "date             object\n",
       "dtype: object"
      ]
     },
     "execution_count": 4,
     "metadata": {},
     "output_type": "execute_result"
    }
   ],
   "source": [
    "df_np.dtypes"
   ]
  },
  {
   "cell_type": "markdown",
   "metadata": {},
   "source": [
    "Revisamos la existencia de valores nulos y duplicados:"
   ]
  },
  {
   "cell_type": "code",
   "execution_count": 5,
   "metadata": {},
   "outputs": [
    {
     "name": "stdout",
     "output_type": "stream",
     "text": [
      "Valores nulos por columna:\n",
      "Series([], dtype: int64)\n",
      "Número de registros duplicados: 0\n"
     ]
    }
   ],
   "source": [
    "# Datos faltantes\n",
    "missing_values = df_np.isnull().sum()\n",
    "print(\"Valores nulos por columna:\")\n",
    "print(missing_values[missing_values > 0])\n",
    "\n",
    "# Duplicados\n",
    "duplicates = df_np.duplicated().sum()\n",
    "print(\"Número de registros duplicados:\", duplicates)"
   ]
  },
  {
   "cell_type": "markdown",
   "metadata": {},
   "source": [
    "Revisamos la existencia de valores duplicados, filtrando simultáneamente por `movie_id` y `date`."
   ]
  },
  {
   "cell_type": "code",
   "execution_count": 6,
   "metadata": {},
   "outputs": [
    {
     "data": {
      "text/html": [
       "<div>\n",
       "<style scoped>\n",
       "    .dataframe tbody tr th:only-of-type {\n",
       "        vertical-align: middle;\n",
       "    }\n",
       "\n",
       "    .dataframe tbody tr th {\n",
       "        vertical-align: top;\n",
       "    }\n",
       "\n",
       "    .dataframe thead th {\n",
       "        text-align: right;\n",
       "    }\n",
       "</style>\n",
       "<table border=\"1\" class=\"dataframe\">\n",
       "  <thead>\n",
       "    <tr style=\"text-align: right;\">\n",
       "      <th></th>\n",
       "      <th>movie_id</th>\n",
       "      <th>date</th>\n",
       "      <th>counts</th>\n",
       "    </tr>\n",
       "  </thead>\n",
       "  <tbody>\n",
       "    <tr>\n",
       "      <th>68</th>\n",
       "      <td>1202479</td>\n",
       "      <td>2025-04-03</td>\n",
       "      <td>2</td>\n",
       "    </tr>\n",
       "  </tbody>\n",
       "</table>\n",
       "</div>"
      ],
      "text/plain": [
       "    movie_id        date  counts\n",
       "68   1202479  2025-04-03       2"
      ]
     },
     "execution_count": 6,
     "metadata": {},
     "output_type": "execute_result"
    }
   ],
   "source": [
    "df_np.groupby(['movie_id', 'date']).size().reset_index(name='counts').query('counts > 1')"
   ]
  },
  {
   "cell_type": "markdown",
   "metadata": {},
   "source": [
    "Verificamos fechas inconsistentes:"
   ]
  },
  {
   "cell_type": "code",
   "execution_count": 7,
   "metadata": {},
   "outputs": [
    {
     "name": "stdout",
     "output_type": "stream",
     "text": [
      "La fecha más antigua del dataset es: 2025-04-03\n",
      "La fecha más reciente del dataset es: 2025-04-03\n"
     ]
    }
   ],
   "source": [
    "print('La fecha más antigua del dataset es: '+ df_np['date'].min())\n",
    "print('La fecha más reciente del dataset es: '+ df_np['date'].max())\n"
   ]
  },
  {
   "cell_type": "markdown",
   "metadata": {},
   "source": [
    "## Movie Details"
   ]
  },
  {
   "cell_type": "code",
   "execution_count": 8,
   "metadata": {},
   "outputs": [],
   "source": [
    "# Movie Details:\n",
    "\n",
    "dt_md = DeltaTable('../data/delta/bronze/tmdb/movie_details')\n",
    "df_md = dt_md.to_pandas()"
   ]
  },
  {
   "cell_type": "markdown",
   "metadata": {},
   "source": [
    "Primeras inspecciones:"
   ]
  },
  {
   "cell_type": "code",
   "execution_count": 9,
   "metadata": {},
   "outputs": [
    {
     "data": {
      "text/html": [
       "<div>\n",
       "<style scoped>\n",
       "    .dataframe tbody tr th:only-of-type {\n",
       "        vertical-align: middle;\n",
       "    }\n",
       "\n",
       "    .dataframe tbody tr th {\n",
       "        vertical-align: top;\n",
       "    }\n",
       "\n",
       "    .dataframe thead th {\n",
       "        text-align: right;\n",
       "    }\n",
       "</style>\n",
       "<table border=\"1\" class=\"dataframe\">\n",
       "  <thead>\n",
       "    <tr style=\"text-align: right;\">\n",
       "      <th></th>\n",
       "      <th>movie_id</th>\n",
       "      <th>title</th>\n",
       "      <th>runtime</th>\n",
       "      <th>budget</th>\n",
       "      <th>genres</th>\n",
       "      <th>imdb_id</th>\n",
       "      <th>homepage</th>\n",
       "      <th>origin_countries</th>\n",
       "      <th>original_language</th>\n",
       "      <th>production_companies</th>\n",
       "      <th>release_date</th>\n",
       "    </tr>\n",
       "  </thead>\n",
       "  <tbody>\n",
       "    <tr>\n",
       "      <th>0</th>\n",
       "      <td>1333100</td>\n",
       "      <td>Attack on Titan: THE LAST ATTACK</td>\n",
       "      <td>145</td>\n",
       "      <td>0</td>\n",
       "      <td>[{'id': 16, 'name': 'Animation'}, {'id': 28, '...</td>\n",
       "      <td>tt33175825</td>\n",
       "      <td></td>\n",
       "      <td>[JP]</td>\n",
       "      <td>ja</td>\n",
       "      <td>[{'id': 21444, 'logo_path': '/wSejGn3lAZdQ5muB...</td>\n",
       "      <td>2024-11-08</td>\n",
       "    </tr>\n",
       "    <tr>\n",
       "      <th>1</th>\n",
       "      <td>696506</td>\n",
       "      <td>Mickey 17</td>\n",
       "      <td>137</td>\n",
       "      <td>118000000</td>\n",
       "      <td>[{'id': 878, 'name': 'Science Fiction'}, {'id'...</td>\n",
       "      <td>tt12299608</td>\n",
       "      <td>https://www.mickey17movie.com</td>\n",
       "      <td>[GB, US]</td>\n",
       "      <td>en</td>\n",
       "      <td>[{'id': 174, 'logo_path': '/zhD3hhtKB5qyv7ZeL4...</td>\n",
       "      <td>2025-02-28</td>\n",
       "    </tr>\n",
       "    <tr>\n",
       "      <th>2</th>\n",
       "      <td>717196</td>\n",
       "      <td>Niko: Beyond the Northern Lights</td>\n",
       "      <td>85</td>\n",
       "      <td>0</td>\n",
       "      <td>[{'id': 16, 'name': 'Animation'}, {'id': 10751...</td>\n",
       "      <td>tt14813816</td>\n",
       "      <td></td>\n",
       "      <td>[IE, DE, DK, FI]</td>\n",
       "      <td>fi</td>\n",
       "      <td>[{'id': 135965, 'logo_path': None, 'name': 'An...</td>\n",
       "      <td>2024-10-07</td>\n",
       "    </tr>\n",
       "    <tr>\n",
       "      <th>3</th>\n",
       "      <td>1249289</td>\n",
       "      <td>Alarum</td>\n",
       "      <td>95</td>\n",
       "      <td>20000000</td>\n",
       "      <td>[{'id': 28, 'name': 'Action'}, {'id': 80, 'nam...</td>\n",
       "      <td>tt31456973</td>\n",
       "      <td>https://justwatch.pro/movie/1249289/alarum</td>\n",
       "      <td>[US]</td>\n",
       "      <td>en</td>\n",
       "      <td>[{'id': 121204, 'logo_path': '/vbtvY4IxgUZk713...</td>\n",
       "      <td>2025-01-16</td>\n",
       "    </tr>\n",
       "    <tr>\n",
       "      <th>4</th>\n",
       "      <td>128</td>\n",
       "      <td>Princess Mononoke</td>\n",
       "      <td>134</td>\n",
       "      <td>23500000</td>\n",
       "      <td>[{'id': 12, 'name': 'Adventure'}, {'id': 14, '...</td>\n",
       "      <td>tt0119698</td>\n",
       "      <td>http://www.princess-mononoke.com/</td>\n",
       "      <td>[JP]</td>\n",
       "      <td>ja</td>\n",
       "      <td>[{'id': 10342, 'logo_path': '/uFuxPEZRUcBTEiYI...</td>\n",
       "      <td>1997-07-12</td>\n",
       "    </tr>\n",
       "  </tbody>\n",
       "</table>\n",
       "</div>"
      ],
      "text/plain": [
       "   movie_id                             title  runtime     budget  \\\n",
       "0   1333100  Attack on Titan: THE LAST ATTACK      145          0   \n",
       "1    696506                         Mickey 17      137  118000000   \n",
       "2    717196  Niko: Beyond the Northern Lights       85          0   \n",
       "3   1249289                            Alarum       95   20000000   \n",
       "4       128                 Princess Mononoke      134   23500000   \n",
       "\n",
       "                                              genres     imdb_id  \\\n",
       "0  [{'id': 16, 'name': 'Animation'}, {'id': 28, '...  tt33175825   \n",
       "1  [{'id': 878, 'name': 'Science Fiction'}, {'id'...  tt12299608   \n",
       "2  [{'id': 16, 'name': 'Animation'}, {'id': 10751...  tt14813816   \n",
       "3  [{'id': 28, 'name': 'Action'}, {'id': 80, 'nam...  tt31456973   \n",
       "4  [{'id': 12, 'name': 'Adventure'}, {'id': 14, '...   tt0119698   \n",
       "\n",
       "                                     homepage  origin_countries  \\\n",
       "0                                                          [JP]   \n",
       "1               https://www.mickey17movie.com          [GB, US]   \n",
       "2                                              [IE, DE, DK, FI]   \n",
       "3  https://justwatch.pro/movie/1249289/alarum              [US]   \n",
       "4           http://www.princess-mononoke.com/              [JP]   \n",
       "\n",
       "  original_language                               production_companies  \\\n",
       "0                ja  [{'id': 21444, 'logo_path': '/wSejGn3lAZdQ5muB...   \n",
       "1                en  [{'id': 174, 'logo_path': '/zhD3hhtKB5qyv7ZeL4...   \n",
       "2                fi  [{'id': 135965, 'logo_path': None, 'name': 'An...   \n",
       "3                en  [{'id': 121204, 'logo_path': '/vbtvY4IxgUZk713...   \n",
       "4                ja  [{'id': 10342, 'logo_path': '/uFuxPEZRUcBTEiYI...   \n",
       "\n",
       "  release_date  \n",
       "0   2024-11-08  \n",
       "1   2025-02-28  \n",
       "2   2024-10-07  \n",
       "3   2025-01-16  \n",
       "4   1997-07-12  "
      ]
     },
     "execution_count": 9,
     "metadata": {},
     "output_type": "execute_result"
    }
   ],
   "source": [
    "df_md.head()"
   ]
  },
  {
   "cell_type": "markdown",
   "metadata": {},
   "source": [
    "Verificamos los datatypes para definir las transformaciones necesarias:"
   ]
  },
  {
   "cell_type": "code",
   "execution_count": 10,
   "metadata": {},
   "outputs": [
    {
     "data": {
      "text/plain": [
       "movie_id                 int64\n",
       "title                   object\n",
       "runtime                  int64\n",
       "budget                   int64\n",
       "genres                  object\n",
       "imdb_id                 object\n",
       "homepage                object\n",
       "origin_countries        object\n",
       "original_language       object\n",
       "production_companies    object\n",
       "release_date            object\n",
       "dtype: object"
      ]
     },
     "execution_count": 10,
     "metadata": {},
     "output_type": "execute_result"
    }
   ],
   "source": [
    "df_md.dtypes"
   ]
  },
  {
   "cell_type": "markdown",
   "metadata": {},
   "source": [
    "Revisamos la existencia de valores nulos, tanto por columna como por filas:"
   ]
  },
  {
   "cell_type": "code",
   "execution_count": 11,
   "metadata": {},
   "outputs": [
    {
     "data": {
      "text/plain": [
       "movie_id                0\n",
       "title                   0\n",
       "runtime                 0\n",
       "budget                  0\n",
       "genres                  0\n",
       "imdb_id                 1\n",
       "homepage                0\n",
       "origin_countries        0\n",
       "original_language       0\n",
       "production_companies    0\n",
       "release_date            0\n",
       "dtype: int64"
      ]
     },
     "execution_count": 11,
     "metadata": {},
     "output_type": "execute_result"
    }
   ],
   "source": [
    "df_md.isnull().sum()"
   ]
  },
  {
   "cell_type": "code",
   "execution_count": 12,
   "metadata": {},
   "outputs": [
    {
     "data": {
      "text/html": [
       "<div>\n",
       "<style scoped>\n",
       "    .dataframe tbody tr th:only-of-type {\n",
       "        vertical-align: middle;\n",
       "    }\n",
       "\n",
       "    .dataframe tbody tr th {\n",
       "        vertical-align: top;\n",
       "    }\n",
       "\n",
       "    .dataframe thead th {\n",
       "        text-align: right;\n",
       "    }\n",
       "</style>\n",
       "<table border=\"1\" class=\"dataframe\">\n",
       "  <thead>\n",
       "    <tr style=\"text-align: right;\">\n",
       "      <th></th>\n",
       "      <th>movie_id</th>\n",
       "      <th>title</th>\n",
       "      <th>runtime</th>\n",
       "      <th>budget</th>\n",
       "      <th>genres</th>\n",
       "      <th>imdb_id</th>\n",
       "      <th>homepage</th>\n",
       "      <th>origin_countries</th>\n",
       "      <th>original_language</th>\n",
       "      <th>production_companies</th>\n",
       "      <th>release_date</th>\n",
       "    </tr>\n",
       "  </thead>\n",
       "  <tbody>\n",
       "    <tr>\n",
       "      <th>28</th>\n",
       "      <td>1376879</td>\n",
       "      <td>Tunnel: Sun In The Dark</td>\n",
       "      <td>0</td>\n",
       "      <td>2240000</td>\n",
       "      <td>[{'id': 10752, 'name': 'War'}, {'id': 36, 'nam...</td>\n",
       "      <td>None</td>\n",
       "      <td></td>\n",
       "      <td>[VN]</td>\n",
       "      <td>vi</td>\n",
       "      <td>[{'id': 31453, 'logo_path': None, 'name': 'HKF...</td>\n",
       "      <td>2025-04-04</td>\n",
       "    </tr>\n",
       "  </tbody>\n",
       "</table>\n",
       "</div>"
      ],
      "text/plain": [
       "    movie_id                    title  runtime   budget  \\\n",
       "28   1376879  Tunnel: Sun In The Dark        0  2240000   \n",
       "\n",
       "                                               genres imdb_id homepage  \\\n",
       "28  [{'id': 10752, 'name': 'War'}, {'id': 36, 'nam...    None            \n",
       "\n",
       "   origin_countries original_language  \\\n",
       "28             [VN]                vi   \n",
       "\n",
       "                                 production_companies release_date  \n",
       "28  [{'id': 31453, 'logo_path': None, 'name': 'HKF...   2025-04-04  "
      ]
     },
     "execution_count": 12,
     "metadata": {},
     "output_type": "execute_result"
    }
   ],
   "source": [
    "df_md[df_md.isnull().any(axis=1)].head()"
   ]
  },
  {
   "cell_type": "markdown",
   "metadata": {},
   "source": [
    "Revisamos la existencia de valores duplicados, filtrando ÚNICAMENTE por `movie_id` por la naturaleza del dataset."
   ]
  },
  {
   "cell_type": "code",
   "execution_count": 13,
   "metadata": {},
   "outputs": [
    {
     "data": {
      "text/plain": [
       "0"
      ]
     },
     "execution_count": 13,
     "metadata": {},
     "output_type": "execute_result"
    }
   ],
   "source": [
    "df_md.duplicated(subset=['movie_id']).sum()"
   ]
  },
  {
   "cell_type": "code",
   "execution_count": null,
   "metadata": {},
   "outputs": [],
   "source": []
  }
 ],
 "metadata": {
  "kernelspec": {
   "display_name": "base",
   "language": "python",
   "name": "python3"
  },
  "language_info": {
   "codemirror_mode": {
    "name": "ipython",
    "version": 3
   },
   "file_extension": ".py",
   "mimetype": "text/x-python",
   "name": "python",
   "nbconvert_exporter": "python",
   "pygments_lexer": "ipython3",
   "version": "3.12.7"
  }
 },
 "nbformat": 4,
 "nbformat_minor": 2
}
