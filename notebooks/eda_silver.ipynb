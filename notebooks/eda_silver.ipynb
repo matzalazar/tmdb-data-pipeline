{
 "cells": [
  {
   "cell_type": "markdown",
   "metadata": {},
   "source": [
    "# Análisis Exploratorio de la Capa Silver"
   ]
  },
  {
   "cell_type": "markdown",
   "metadata": {},
   "source": [
    "## Configuración inicial\n",
    "\n",
    "Importamos las librerías:"
   ]
  },
  {
   "cell_type": "code",
   "execution_count": 2,
   "metadata": {},
   "outputs": [],
   "source": [
    "import pyarrow.parquet as pq\n",
    "import pandas as pd"
   ]
  },
  {
   "cell_type": "markdown",
   "metadata": {},
   "source": [
    "## Now Playing"
   ]
  },
  {
   "cell_type": "markdown",
   "metadata": {},
   "source": [
    "Cargamos la Tabla Delta Silver de Now Playing e imprimimos el schema para corroborar que los tipos de datos almacenados son correctos luego de la transformación:"
   ]
  },
  {
   "cell_type": "code",
   "execution_count": 3,
   "metadata": {},
   "outputs": [
    {
     "name": "stdout",
     "output_type": "stream",
     "text": [
      "movie_id: int64\n",
      "title: string\n",
      "vote_average: double\n",
      "vote_count: int32\n",
      "popularity: double\n",
      "rating_category: dictionary<values=string, indices=int32, ordered=0>\n",
      "date: dictionary<values=string, indices=int32, ordered=0>\n"
     ]
    }
   ],
   "source": [
    "table_np = pq.read_table('../data/delta/silver/tmdb/now_playing')\n",
    "print(table_np.schema)"
   ]
  },
  {
   "cell_type": "markdown",
   "metadata": {},
   "source": [
    "Hacemos una inspección de la estructura pasando el contenido de la tabla a un DataFrame:"
   ]
  },
  {
   "cell_type": "code",
   "execution_count": 4,
   "metadata": {},
   "outputs": [
    {
     "data": {
      "text/html": [
       "<div>\n",
       "<style scoped>\n",
       "    .dataframe tbody tr th:only-of-type {\n",
       "        vertical-align: middle;\n",
       "    }\n",
       "\n",
       "    .dataframe tbody tr th {\n",
       "        vertical-align: top;\n",
       "    }\n",
       "\n",
       "    .dataframe thead th {\n",
       "        text-align: right;\n",
       "    }\n",
       "</style>\n",
       "<table border=\"1\" class=\"dataframe\">\n",
       "  <thead>\n",
       "    <tr style=\"text-align: right;\">\n",
       "      <th></th>\n",
       "      <th>movie_id</th>\n",
       "      <th>title</th>\n",
       "      <th>vote_average</th>\n",
       "      <th>vote_count</th>\n",
       "      <th>popularity</th>\n",
       "      <th>rating_category</th>\n",
       "      <th>date</th>\n",
       "    </tr>\n",
       "  </thead>\n",
       "  <tbody>\n",
       "    <tr>\n",
       "      <th>0</th>\n",
       "      <td>1125899</td>\n",
       "      <td>Cleaner</td>\n",
       "      <td>6.750</td>\n",
       "      <td>142</td>\n",
       "      <td>417.3003</td>\n",
       "      <td>Buena</td>\n",
       "      <td>2025-04-03</td>\n",
       "    </tr>\n",
       "    <tr>\n",
       "      <th>1</th>\n",
       "      <td>1229730</td>\n",
       "      <td>Carjackers</td>\n",
       "      <td>7.100</td>\n",
       "      <td>37</td>\n",
       "      <td>435.5444</td>\n",
       "      <td>Buena</td>\n",
       "      <td>2025-04-03</td>\n",
       "    </tr>\n",
       "    <tr>\n",
       "      <th>2</th>\n",
       "      <td>822119</td>\n",
       "      <td>Captain America: Brave New World</td>\n",
       "      <td>6.118</td>\n",
       "      <td>1187</td>\n",
       "      <td>348.3977</td>\n",
       "      <td>Regular</td>\n",
       "      <td>2025-04-03</td>\n",
       "    </tr>\n",
       "    <tr>\n",
       "      <th>3</th>\n",
       "      <td>1261050</td>\n",
       "      <td>The Quiet Ones</td>\n",
       "      <td>6.200</td>\n",
       "      <td>15</td>\n",
       "      <td>363.2694</td>\n",
       "      <td>Regular</td>\n",
       "      <td>2025-04-03</td>\n",
       "    </tr>\n",
       "    <tr>\n",
       "      <th>4</th>\n",
       "      <td>1197306</td>\n",
       "      <td>A Working Man</td>\n",
       "      <td>6.968</td>\n",
       "      <td>94</td>\n",
       "      <td>356.5597</td>\n",
       "      <td>Buena</td>\n",
       "      <td>2025-04-03</td>\n",
       "    </tr>\n",
       "  </tbody>\n",
       "</table>\n",
       "</div>"
      ],
      "text/plain": [
       "   movie_id                             title  vote_average  vote_count  \\\n",
       "0   1125899                           Cleaner         6.750         142   \n",
       "1   1229730                        Carjackers         7.100          37   \n",
       "2    822119  Captain America: Brave New World         6.118        1187   \n",
       "3   1261050                    The Quiet Ones         6.200          15   \n",
       "4   1197306                     A Working Man         6.968          94   \n",
       "\n",
       "   popularity rating_category        date  \n",
       "0    417.3003           Buena  2025-04-03  \n",
       "1    435.5444           Buena  2025-04-03  \n",
       "2    348.3977         Regular  2025-04-03  \n",
       "3    363.2694         Regular  2025-04-03  \n",
       "4    356.5597           Buena  2025-04-03  "
      ]
     },
     "execution_count": 4,
     "metadata": {},
     "output_type": "execute_result"
    }
   ],
   "source": [
    "df_np = table_np.to_pandas()\n",
    "df_np.head()"
   ]
  },
  {
   "cell_type": "code",
   "execution_count": 5,
   "metadata": {},
   "outputs": [
    {
     "data": {
      "text/html": [
       "<div>\n",
       "<style scoped>\n",
       "    .dataframe tbody tr th:only-of-type {\n",
       "        vertical-align: middle;\n",
       "    }\n",
       "\n",
       "    .dataframe tbody tr th {\n",
       "        vertical-align: top;\n",
       "    }\n",
       "\n",
       "    .dataframe thead th {\n",
       "        text-align: right;\n",
       "    }\n",
       "</style>\n",
       "<table border=\"1\" class=\"dataframe\">\n",
       "  <thead>\n",
       "    <tr style=\"text-align: right;\">\n",
       "      <th></th>\n",
       "      <th>movie_id</th>\n",
       "      <th>title</th>\n",
       "      <th>vote_average</th>\n",
       "      <th>vote_count</th>\n",
       "      <th>popularity</th>\n",
       "      <th>rating_category</th>\n",
       "      <th>date</th>\n",
       "    </tr>\n",
       "  </thead>\n",
       "  <tbody>\n",
       "    <tr>\n",
       "      <th>94</th>\n",
       "      <td>1216780</td>\n",
       "      <td>Nadaaniyan</td>\n",
       "      <td>5.900</td>\n",
       "      <td>30</td>\n",
       "      <td>15.8515</td>\n",
       "      <td>Mala</td>\n",
       "      <td>2025-04-03</td>\n",
       "    </tr>\n",
       "    <tr>\n",
       "      <th>95</th>\n",
       "      <td>128</td>\n",
       "      <td>Princess Mononoke</td>\n",
       "      <td>8.332</td>\n",
       "      <td>8249</td>\n",
       "      <td>16.3969</td>\n",
       "      <td>Excelente</td>\n",
       "      <td>2025-04-03</td>\n",
       "    </tr>\n",
       "    <tr>\n",
       "      <th>96</th>\n",
       "      <td>765897</td>\n",
       "      <td>The Unbreakable Boy</td>\n",
       "      <td>7.100</td>\n",
       "      <td>25</td>\n",
       "      <td>14.7968</td>\n",
       "      <td>Buena</td>\n",
       "      <td>2025-04-03</td>\n",
       "    </tr>\n",
       "    <tr>\n",
       "      <th>97</th>\n",
       "      <td>1261555</td>\n",
       "      <td>Promised Hearts</td>\n",
       "      <td>5.500</td>\n",
       "      <td>3</td>\n",
       "      <td>27.5698</td>\n",
       "      <td>Mala</td>\n",
       "      <td>2025-04-03</td>\n",
       "    </tr>\n",
       "    <tr>\n",
       "      <th>98</th>\n",
       "      <td>1100099</td>\n",
       "      <td>We Live in Time</td>\n",
       "      <td>7.400</td>\n",
       "      <td>763</td>\n",
       "      <td>14.8867</td>\n",
       "      <td>Excelente</td>\n",
       "      <td>2025-04-03</td>\n",
       "    </tr>\n",
       "  </tbody>\n",
       "</table>\n",
       "</div>"
      ],
      "text/plain": [
       "    movie_id                title  vote_average  vote_count  popularity  \\\n",
       "94   1216780           Nadaaniyan         5.900          30     15.8515   \n",
       "95       128    Princess Mononoke         8.332        8249     16.3969   \n",
       "96    765897  The Unbreakable Boy         7.100          25     14.7968   \n",
       "97   1261555      Promised Hearts         5.500           3     27.5698   \n",
       "98   1100099      We Live in Time         7.400         763     14.8867   \n",
       "\n",
       "   rating_category        date  \n",
       "94            Mala  2025-04-03  \n",
       "95       Excelente  2025-04-03  \n",
       "96           Buena  2025-04-03  \n",
       "97            Mala  2025-04-03  \n",
       "98       Excelente  2025-04-03  "
      ]
     },
     "execution_count": 5,
     "metadata": {},
     "output_type": "execute_result"
    }
   ],
   "source": [
    "df_np.tail()"
   ]
  },
  {
   "cell_type": "markdown",
   "metadata": {},
   "source": [
    "Efectuamos un gráfico ilustrativo de la columna de enriquecimiento `rating_category`:"
   ]
  },
  {
   "cell_type": "code",
   "execution_count": 6,
   "metadata": {},
   "outputs": [
    {
     "data": {
      "text/plain": [
       "<Axes: >"
      ]
     },
     "execution_count": 6,
     "metadata": {},
     "output_type": "execute_result"
    },
    {
     "data": {
      "image/png": "[encoded data removed]",
      "text/plain": [
       "<Figure size 640x480 with 1 Axes>"
      ]
     },
     "metadata": {},
     "output_type": "display_data"
    }
   ],
   "source": [
    "df_np['rating_category'].hist()"
   ]
  },
  {
   "cell_type": "markdown",
   "metadata": {},
   "source": [
    "## Movie Details"
   ]
  },
  {
   "cell_type": "markdown",
   "metadata": {},
   "source": [
    "Cargamos la Tabla Delta Silver de Movie Details e imprimimos el schema para corroborar que los tipos de datos almacenados son correctos luego de la transformación:"
   ]
  },
  {
   "cell_type": "code",
   "execution_count": 7,
   "metadata": {},
   "outputs": [
    {
     "name": "stdout",
     "output_type": "stream",
     "text": [
      "movie_id: int64\n",
      "title: string\n",
      "runtime: int32\n",
      "budget: int64\n",
      "imdb_id: string\n",
      "homepage: string\n",
      "original_language: string\n",
      "release_date: timestamp[us]\n",
      "genre_ids: list<item: int64>\n",
      "  child 0, item: int64\n",
      "origin_countries: string\n",
      "available_on_platform: bool\n"
     ]
    }
   ],
   "source": [
    "table_mv = pq.read_table('../data/delta/silver/tmdb/movie_details')\n",
    "print(table_mv.schema)"
   ]
  },
  {
   "cell_type": "markdown",
   "metadata": {},
   "source": [
    "Hacemos una inspección de la estructura pasando el contenido de la tabla a un DataFrame:"
   ]
  },
  {
   "cell_type": "code",
   "execution_count": 8,
   "metadata": {},
   "outputs": [
    {
     "data": {
      "text/html": [
       "<div>\n",
       "<style scoped>\n",
       "    .dataframe tbody tr th:only-of-type {\n",
       "        vertical-align: middle;\n",
       "    }\n",
       "\n",
       "    .dataframe tbody tr th {\n",
       "        vertical-align: top;\n",
       "    }\n",
       "\n",
       "    .dataframe thead th {\n",
       "        text-align: right;\n",
       "    }\n",
       "</style>\n",
       "<table border=\"1\" class=\"dataframe\">\n",
       "  <thead>\n",
       "    <tr style=\"text-align: right;\">\n",
       "      <th></th>\n",
       "      <th>movie_id</th>\n",
       "      <th>title</th>\n",
       "      <th>runtime</th>\n",
       "      <th>budget</th>\n",
       "      <th>imdb_id</th>\n",
       "      <th>homepage</th>\n",
       "      <th>original_language</th>\n",
       "      <th>release_date</th>\n",
       "      <th>genre_ids</th>\n",
       "      <th>origin_countries</th>\n",
       "      <th>available_on_platform</th>\n",
       "    </tr>\n",
       "  </thead>\n",
       "  <tbody>\n",
       "    <tr>\n",
       "      <th>0</th>\n",
       "      <td>1333100</td>\n",
       "      <td>Attack on Titan: THE LAST ATTACK</td>\n",
       "      <td>145</td>\n",
       "      <td>0</td>\n",
       "      <td>tt33175825</td>\n",
       "      <td>unknown</td>\n",
       "      <td>ja</td>\n",
       "      <td>2024-11-08</td>\n",
       "      <td>[16, 28, 12, 14]</td>\n",
       "      <td>['JP']</td>\n",
       "      <td>False</td>\n",
       "    </tr>\n",
       "    <tr>\n",
       "      <th>1</th>\n",
       "      <td>696506</td>\n",
       "      <td>Mickey 17</td>\n",
       "      <td>137</td>\n",
       "      <td>118000000</td>\n",
       "      <td>tt12299608</td>\n",
       "      <td>https://www.mickey17movie.com</td>\n",
       "      <td>en</td>\n",
       "      <td>2025-02-28</td>\n",
       "      <td>[878, 35, 12]</td>\n",
       "      <td>['GB' 'US']</td>\n",
       "      <td>False</td>\n",
       "    </tr>\n",
       "    <tr>\n",
       "      <th>2</th>\n",
       "      <td>717196</td>\n",
       "      <td>Niko: Beyond the Northern Lights</td>\n",
       "      <td>85</td>\n",
       "      <td>0</td>\n",
       "      <td>tt14813816</td>\n",
       "      <td>unknown</td>\n",
       "      <td>fi</td>\n",
       "      <td>2024-10-07</td>\n",
       "      <td>[16, 10751, 14]</td>\n",
       "      <td>['IE' 'DE' 'DK' 'FI']</td>\n",
       "      <td>False</td>\n",
       "    </tr>\n",
       "    <tr>\n",
       "      <th>3</th>\n",
       "      <td>1249289</td>\n",
       "      <td>Alarum</td>\n",
       "      <td>95</td>\n",
       "      <td>20000000</td>\n",
       "      <td>tt31456973</td>\n",
       "      <td>https://justwatch.pro/movie/1249289/alarum</td>\n",
       "      <td>en</td>\n",
       "      <td>2025-01-16</td>\n",
       "      <td>[28, 80, 53]</td>\n",
       "      <td>['US']</td>\n",
       "      <td>False</td>\n",
       "    </tr>\n",
       "    <tr>\n",
       "      <th>4</th>\n",
       "      <td>128</td>\n",
       "      <td>Princess Mononoke</td>\n",
       "      <td>134</td>\n",
       "      <td>23500000</td>\n",
       "      <td>tt0119698</td>\n",
       "      <td>http://www.princess-mononoke.com/</td>\n",
       "      <td>ja</td>\n",
       "      <td>1997-07-12</td>\n",
       "      <td>[12, 14, 16]</td>\n",
       "      <td>['JP']</td>\n",
       "      <td>False</td>\n",
       "    </tr>\n",
       "  </tbody>\n",
       "</table>\n",
       "</div>"
      ],
      "text/plain": [
       "   movie_id                             title  runtime     budget     imdb_id  \\\n",
       "0   1333100  Attack on Titan: THE LAST ATTACK      145          0  tt33175825   \n",
       "1    696506                         Mickey 17      137  118000000  tt12299608   \n",
       "2    717196  Niko: Beyond the Northern Lights       85          0  tt14813816   \n",
       "3   1249289                            Alarum       95   20000000  tt31456973   \n",
       "4       128                 Princess Mononoke      134   23500000   tt0119698   \n",
       "\n",
       "                                     homepage original_language release_date  \\\n",
       "0                                     unknown                ja   2024-11-08   \n",
       "1               https://www.mickey17movie.com                en   2025-02-28   \n",
       "2                                     unknown                fi   2024-10-07   \n",
       "3  https://justwatch.pro/movie/1249289/alarum                en   2025-01-16   \n",
       "4           http://www.princess-mononoke.com/                ja   1997-07-12   \n",
       "\n",
       "          genre_ids       origin_countries  available_on_platform  \n",
       "0  [16, 28, 12, 14]                 ['JP']                  False  \n",
       "1     [878, 35, 12]            ['GB' 'US']                  False  \n",
       "2   [16, 10751, 14]  ['IE' 'DE' 'DK' 'FI']                  False  \n",
       "3      [28, 80, 53]                 ['US']                  False  \n",
       "4      [12, 14, 16]                 ['JP']                  False  "
      ]
     },
     "execution_count": 8,
     "metadata": {},
     "output_type": "execute_result"
    }
   ],
   "source": [
    "df_mv = table_mv.to_pandas()\n",
    "df_mv.head()"
   ]
  },
  {
   "cell_type": "markdown",
   "metadata": {},
   "source": [
    "Efectuamos un gráfico ilustrativo de la columna de enriquecimiento `available_on_platform`:"
   ]
  },
  {
   "cell_type": "code",
   "execution_count": 9,
   "metadata": {},
   "outputs": [
    {
     "data": {
      "text/plain": [
       "<Axes: xlabel='available_on_platform'>"
      ]
     },
     "execution_count": 9,
     "metadata": {},
     "output_type": "execute_result"
    },
    {
     "data": {
      "image/png": "[encoded data removed]",
      "text/plain": [
       "<Figure size 640x480 with 1 Axes>"
      ]
     },
     "metadata": {},
     "output_type": "display_data"
    }
   ],
   "source": [
    "df_mv['available_on_platform'].value_counts().plot(kind='bar')"
   ]
  },
  {
   "cell_type": "markdown",
   "metadata": {},
   "source": [
    "## Tabla de Dimensiones"
   ]
  },
  {
   "cell_type": "code",
   "execution_count": 10,
   "metadata": {},
   "outputs": [],
   "source": [
    "# Carga de Tabla de Dimensiones\n",
    "\n",
    "dim_countries = pq.read_table('../data/delta/silver/tmdb/dim_countries')\n",
    "dim_genres = pq.read_table('../data/delta/silver/tmdb/dim_genres')\n",
    "dim_languages = pq.read_table('../data/delta/silver/tmdb/dim_languages')\n",
    "\n",
    "# Convertimos a Pandas\n",
    "\n",
    "df_countries = dim_countries.to_pandas()\n",
    "df_genres = dim_genres.to_pandas()\n",
    "df_lang = dim_languages.to_pandas()"
   ]
  },
  {
   "cell_type": "markdown",
   "metadata": {},
   "source": [
    "Obervamos los primeros registros a los fines de asegurarnos el correcto almacenamiento de la información para futuros enriquecimientos de tablas:"
   ]
  },
  {
   "cell_type": "code",
   "execution_count": 11,
   "metadata": {},
   "outputs": [
    {
     "data": {
      "text/html": [
       "<div>\n",
       "<style scoped>\n",
       "    .dataframe tbody tr th:only-of-type {\n",
       "        vertical-align: middle;\n",
       "    }\n",
       "\n",
       "    .dataframe tbody tr th {\n",
       "        vertical-align: top;\n",
       "    }\n",
       "\n",
       "    .dataframe thead th {\n",
       "        text-align: right;\n",
       "    }\n",
       "</style>\n",
       "<table border=\"1\" class=\"dataframe\">\n",
       "  <thead>\n",
       "    <tr style=\"text-align: right;\">\n",
       "      <th></th>\n",
       "      <th>movie_id</th>\n",
       "      <th>origin_countries</th>\n",
       "      <th>country_common</th>\n",
       "    </tr>\n",
       "  </thead>\n",
       "  <tbody>\n",
       "    <tr>\n",
       "      <th>0</th>\n",
       "      <td>1333100</td>\n",
       "      <td>JP</td>\n",
       "      <td>Japan</td>\n",
       "    </tr>\n",
       "    <tr>\n",
       "      <th>1</th>\n",
       "      <td>696506</td>\n",
       "      <td>GB</td>\n",
       "      <td>United Kingdom</td>\n",
       "    </tr>\n",
       "    <tr>\n",
       "      <th>2</th>\n",
       "      <td>696506</td>\n",
       "      <td>US</td>\n",
       "      <td>United States of America</td>\n",
       "    </tr>\n",
       "    <tr>\n",
       "      <th>3</th>\n",
       "      <td>717196</td>\n",
       "      <td>IE</td>\n",
       "      <td>Ireland</td>\n",
       "    </tr>\n",
       "    <tr>\n",
       "      <th>4</th>\n",
       "      <td>717196</td>\n",
       "      <td>DE</td>\n",
       "      <td>Germany</td>\n",
       "    </tr>\n",
       "  </tbody>\n",
       "</table>\n",
       "</div>"
      ],
      "text/plain": [
       "   movie_id origin_countries            country_common\n",
       "0   1333100               JP                     Japan\n",
       "1    696506               GB            United Kingdom\n",
       "2    696506               US  United States of America\n",
       "3    717196               IE                   Ireland\n",
       "4    717196               DE                   Germany"
      ]
     },
     "execution_count": 11,
     "metadata": {},
     "output_type": "execute_result"
    }
   ],
   "source": [
    "df_countries.head()"
   ]
  },
  {
   "cell_type": "code",
   "execution_count": 12,
   "metadata": {},
   "outputs": [
    {
     "data": {
      "text/html": [
       "<div>\n",
       "<style scoped>\n",
       "    .dataframe tbody tr th:only-of-type {\n",
       "        vertical-align: middle;\n",
       "    }\n",
       "\n",
       "    .dataframe tbody tr th {\n",
       "        vertical-align: top;\n",
       "    }\n",
       "\n",
       "    .dataframe thead th {\n",
       "        text-align: right;\n",
       "    }\n",
       "</style>\n",
       "<table border=\"1\" class=\"dataframe\">\n",
       "  <thead>\n",
       "    <tr style=\"text-align: right;\">\n",
       "      <th></th>\n",
       "      <th>genre_id</th>\n",
       "      <th>genre_name</th>\n",
       "    </tr>\n",
       "  </thead>\n",
       "  <tbody>\n",
       "    <tr>\n",
       "      <th>0</th>\n",
       "      <td>16</td>\n",
       "      <td>Animation</td>\n",
       "    </tr>\n",
       "    <tr>\n",
       "      <th>1</th>\n",
       "      <td>28</td>\n",
       "      <td>Action</td>\n",
       "    </tr>\n",
       "    <tr>\n",
       "      <th>2</th>\n",
       "      <td>12</td>\n",
       "      <td>Adventure</td>\n",
       "    </tr>\n",
       "    <tr>\n",
       "      <th>3</th>\n",
       "      <td>14</td>\n",
       "      <td>Fantasy</td>\n",
       "    </tr>\n",
       "    <tr>\n",
       "      <th>4</th>\n",
       "      <td>878</td>\n",
       "      <td>Science Fiction</td>\n",
       "    </tr>\n",
       "  </tbody>\n",
       "</table>\n",
       "</div>"
      ],
      "text/plain": [
       "   genre_id       genre_name\n",
       "0        16        Animation\n",
       "1        28           Action\n",
       "2        12        Adventure\n",
       "3        14          Fantasy\n",
       "4       878  Science Fiction"
      ]
     },
     "execution_count": 12,
     "metadata": {},
     "output_type": "execute_result"
    }
   ],
   "source": [
    "df_genres.head()"
   ]
  },
  {
   "cell_type": "code",
   "execution_count": 13,
   "metadata": {},
   "outputs": [
    {
     "data": {
      "text/html": [
       "<div>\n",
       "<style scoped>\n",
       "    .dataframe tbody tr th:only-of-type {\n",
       "        vertical-align: middle;\n",
       "    }\n",
       "\n",
       "    .dataframe tbody tr th {\n",
       "        vertical-align: top;\n",
       "    }\n",
       "\n",
       "    .dataframe thead th {\n",
       "        text-align: right;\n",
       "    }\n",
       "</style>\n",
       "<table border=\"1\" class=\"dataframe\">\n",
       "  <thead>\n",
       "    <tr style=\"text-align: right;\">\n",
       "      <th></th>\n",
       "      <th>movie_id</th>\n",
       "      <th>original_language</th>\n",
       "      <th>Language</th>\n",
       "    </tr>\n",
       "  </thead>\n",
       "  <tbody>\n",
       "    <tr>\n",
       "      <th>0</th>\n",
       "      <td>1333100</td>\n",
       "      <td>ja</td>\n",
       "      <td>Japanese</td>\n",
       "    </tr>\n",
       "    <tr>\n",
       "      <th>1</th>\n",
       "      <td>696506</td>\n",
       "      <td>en</td>\n",
       "      <td>English</td>\n",
       "    </tr>\n",
       "    <tr>\n",
       "      <th>2</th>\n",
       "      <td>717196</td>\n",
       "      <td>fi</td>\n",
       "      <td>Finnish</td>\n",
       "    </tr>\n",
       "    <tr>\n",
       "      <th>3</th>\n",
       "      <td>1249289</td>\n",
       "      <td>en</td>\n",
       "      <td>English</td>\n",
       "    </tr>\n",
       "    <tr>\n",
       "      <th>4</th>\n",
       "      <td>128</td>\n",
       "      <td>ja</td>\n",
       "      <td>Japanese</td>\n",
       "    </tr>\n",
       "  </tbody>\n",
       "</table>\n",
       "</div>"
      ],
      "text/plain": [
       "   movie_id original_language  Language\n",
       "0   1333100                ja  Japanese\n",
       "1    696506                en   English\n",
       "2    717196                fi   Finnish\n",
       "3   1249289                en   English\n",
       "4       128                ja  Japanese"
      ]
     },
     "execution_count": 13,
     "metadata": {},
     "output_type": "execute_result"
    }
   ],
   "source": [
    "df_lang.head()"
   ]
  },
  {
   "cell_type": "code",
   "execution_count": null,
   "metadata": {},
   "outputs": [],
   "source": []
  }
 ],
 "metadata": {
  "kernelspec": {
   "display_name": "base",
   "language": "python",
   "name": "python3"
  },
  "language_info": {
   "codemirror_mode": {
    "name": "ipython",
    "version": 3
   },
   "file_extension": ".py",
   "mimetype": "text/x-python",
   "name": "python",
   "nbconvert_exporter": "python",
   "pygments_lexer": "ipython3",
   "version": "3.12.7"
  }
 },
 "nbformat": 4,
 "nbformat_minor": 2
}
